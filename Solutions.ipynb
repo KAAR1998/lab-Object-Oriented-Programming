{
 "cells": [
  {
   "cell_type": "code",
   "execution_count": 1,
   "id": "83d0eb3f-b0a5-49f7-a044-3dc3b989fd51",
   "metadata": {},
   "outputs": [],
   "source": [
    "import numpy as np \n",
    "import pandas as pd"
   ]
  },
  {
   "cell_type": "code",
   "execution_count": 7,
   "id": "a84bda72-eacf-4fa8-8f44-b53bb918618e",
   "metadata": {},
   "outputs": [],
   "source": [
    "class Tv:\n",
    "    def __init__(self, on, volume, channel, inputs, size):\n",
    "        self.on = on\n",
    "        self.volume = volume\n",
    "        self.active_channel = channel\n",
    "        self.input = inputs\n",
    "        self.size = size\n",
    "\n",
    "    def switch_on(self):\n",
    "        self.on = True\n",
    "\n",
    "    def switch_off(self):\n",
    "        self.on = False\n",
    "\n",
    "    def set_volume(self, volume):\n",
    "        if volume < 0.0:\n",
    "            self.volume = 0.0\n",
    "        elif volume > 100.0:\n",
    "            self.volume = 100.0\n",
    "        else:\n",
    "            self.volume = volume\n",
    "\n",
    "    def change_channel(self, channel):\n",
    "        if channel < 1 or channel > 10:\n",
    "            print(\"Invalid channel number\")\n",
    "        else:\n",
    "            self.active_channel = channel\n",
    "\n",
    "    def set_input(self, inputs):\n",
    "        inputs = [\"Anthena\", \"HDMI1\", \"HDMI2\", \"HDMI3\"]\n",
    "        if value not in inputs:\n",
    "            print(\"Invalid input\")\n",
    "        else:\n",
    "            self.input = value"
   ]
  }
 ],
 "metadata": {
  "kernelspec": {
   "display_name": "Python 3 (ipykernel)",
   "language": "python",
   "name": "python3"
  },
  "language_info": {
   "codemirror_mode": {
    "name": "ipython",
    "version": 3
   },
   "file_extension": ".py",
   "mimetype": "text/x-python",
   "name": "python",
   "nbconvert_exporter": "python",
   "pygments_lexer": "ipython3",
   "version": "3.9.15"
  }
 },
 "nbformat": 4,
 "nbformat_minor": 5
}
